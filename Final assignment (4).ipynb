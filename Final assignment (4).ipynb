{
 "cells": [
  {
   "cell_type": "markdown",
   "metadata": {
    "collapsed": true
   },
   "source": [
    "#### Assignment 3\n",
    "Anneke Funk, 601229\n",
    "Jonathan Koets, 442332\n",
    "Charlotte Nijland, 298275"
   ]
  },
  {
   "cell_type": "markdown",
   "metadata": {},
   "source": [
    "# Effect of money supply changes on interest rates\n"
   ]
  },
  {
   "cell_type": "markdown",
   "metadata": {},
   "source": [
    "## Research question\n",
    "What will be the change in the ECB interest rate if the ECB increases the Quantitative Easing from 60 to 80 billion euros per month?\n"
   ]
  },
  {
   "cell_type": "markdown",
   "metadata": {},
   "source": [
    "## Motivation\n",
    "In March 2016 the ECB announced an increase in Quantitative Easing from 60 to 80 billion euros a month [Ten Bosch, 2016](http://fd.nl/beurs/1142916/ecb-zet-kraan-verder-open).\n",
    "This policy change will start as of April 1st 2016. The ECB decided to take this step after negative \n",
    "reports on predicted economic growth and inflation. We would like to investigate to what extent these changes have an effect on the interest rate in Europe. "
   ]
  },
  {
   "cell_type": "markdown",
   "metadata": {},
   "source": [
    "## Method\n",
    "We make use of an example that can be found on [this website](http://faculty.econ.ucdavis.edu/faculty/lmakowski/136_site/handouts/is_lm_review.pdf). \n",
    "We use a money demand and money supply [function](#Define the equations and ranges of the interest rate and the quantity of money) in which i is equal to the [ECB rates](http://www.euribor-rates.eu/ecb-refinancing-rate.asp) and Y is calculated according the the given values of MS or MD and i. If QE is 60 than r will be $0.05$% from there on we will calculate the interest rate in case of a QE policy of 80 billion euro. The model we use cannot have negative interest rates.\n"
   ]
  },
  {
   "cell_type": "markdown",
   "metadata": {},
   "source": [
    "## Answer\n",
    "In our [conclusion](#Conclusion) you we can see that for a money supply of 80 we will have an interest rate of $0.03$%. So first it was $0.05$% and now it will become $0.03$%. This is a change of $-40$%. However our interest rate does not correspond with the interest rate of the website we use."
   ]
  },
  {
   "cell_type": "markdown",
   "metadata": {},
   "source": [
    "## Main Assumptions\n",
    "The main assumption underlying our research is that a change in the ECB rates comes mainly from changes in the money supply creates by the ECB.\n"
   ]
  },
  {
   "cell_type": "markdown",
   "metadata": {},
   "source": [
    "## Data\n",
    "The data we use is from a money demand equation given by a macro course which can be found on [this website](http://faculty.econ.ucdavis.edu/faculty/lmakowski/136_site/handouts/is_lm_review.pdf).\n",
    "Besides, we use the ECB rates of 4-9-2014 and 10-3 2016 for a quantitative easing program of 60 and 80 billion euros."
   ]
  },
  {
   "cell_type": "markdown",
   "metadata": {},
   "source": [
    "## Importing libraries and data\n",
    "we use the following python packages to run the model."
   ]
  },
  {
   "cell_type": "code",
   "execution_count": 20,
   "metadata": {
    "collapsed": false
   },
   "outputs": [],
   "source": [
    "import matplotlib.pyplot as plt \n",
    "from scipy import arange\n",
    "%matplotlib inline\n"
   ]
  },
  {
   "cell_type": "markdown",
   "metadata": {},
   "source": [
    "<a id='Define the equations and ranges of the interest rate and the quantity of money'></a>\n",
    "### Define the equations and ranges of the interest rate and the quantity of money"
   ]
  },
  {
   "cell_type": "markdown",
   "metadata": {},
   "source": [
    "To determine the equation we used the equation of the money demand function of [this webstite](http://faculty.econ.ucdavis.edu/faculty/lmakowski/136_site/handouts/is_lm_review.pdf)\n",
    "\n",
    "Money demand= |$5Y-1000×i$\n",
    "\n",
    "fill in the variables. \n",
    "\n",
    "|$60=5Y-1000×0.05$\n",
    "\n",
    "So Y will be 22. We will use this Y 22 as a constant variable to be able to show the changes in i if the quantity of money changes.  "
   ]
  },
  {
   "cell_type": "code",
   "execution_count": 27,
   "metadata": {
    "collapsed": false
   },
   "outputs": [
    {
     "data": {
      "text/plain": [
       "0"
      ]
     },
     "execution_count": 27,
     "metadata": {},
     "output_type": "execute_result"
    }
   ],
   "source": [
    "def interestrate(x):\n",
    "    return (110-x)/1000\n",
    "interestrate(60)"
   ]
  },
  {
   "cell_type": "code",
   "execution_count": 35,
   "metadata": {
    "collapsed": false
   },
   "outputs": [
    {
     "name": "stdout",
     "output_type": "stream",
     "text": [
      "[   0.   10.   20.   30.   40.   50.   60.   70.   80.   90.  100.]\n",
      "[0.11, 0.10000000000000001, 0.089999999999999997, 0.080000000000000002, 0.070000000000000007, 0.059999999999999998, 0.050000000000000003, 0.040000000000000001, 0.029999999999999999, 0.02, 0.01]\n"
     ]
    }
   ],
   "source": [
    "range_x= arange(0.0,110.0,10.0)\n",
    "print range_x\n",
    "\n",
    "range_y=[interestrate(x) for x in range_x]\n",
    "print range_y"
   ]
  },
  {
   "cell_type": "markdown",
   "metadata": {},
   "source": [
    "<a id='Formula for interest rate changes'></a>\n",
    "## Formula for interest rate changes\n",
    "In the table we can already see what will happen if the money supply changes from 60 to 80. If the money supply is 80 we will have an interest rate of $0.03$. \n",
    "\n",
    "To calculate the percentage change we can use the following equation.\n",
    "$\\frac{New-Old}{Old} × 100$%\n",
    "\n",
    "Before we calculate the change in the interest rate we will first check what will happen if we graph the equations.\n"
   ]
  },
  {
   "cell_type": "markdown",
   "metadata": {},
   "source": [
    "## Graph \n",
    "To be able to see the change in the interest rate we need three equations. \n",
    "The first is to determine the interest rate slope dependent on the money demand.\n",
    "The second and third show the money supply curves and the corresponding interest rates."
   ]
  },
  {
   "cell_type": "code",
   "execution_count": 5,
   "metadata": {
    "collapsed": false
   },
   "outputs": [
    {
     "data": {
      "image/png": "[encoded data removed]",
      "text/plain": [
       "<matplotlib.figure.Figure at 0x3e72748>"
      ]
     },
     "metadata": {},
     "output_type": "display_data"
    }
   ],
   "source": [
    "\n",
    "# in the following section the graph is formulated, e.g. the color of the lines, the money supply curves, etc.\n",
    "plt.clf()\n",
    "plt.plot(range_x, range_y, '-', color= 'b', linewidth=3)\n",
    "plt.plot((60,60), (-0.2,0.2), 'r-', linewidth=3)\n",
    "plt.plot((80,80), (-0.2,0.2), 'g-', linewidth=3)\n",
    "plt.plot((0,60), (0.05,0.05), 'r--')\n",
    "plt.plot((0,80), (0.03,0.03), 'g--')\n",
    "plt.xlabel(\"Quantitiy of Money\",fontsize = 13)\n",
    "plt.ylabel(\"Interest Rate\",fontsize = 13)\n",
    "plt.xlim(0,100)\n",
    "plt.ylim(0.0,0.2)\n",
    "\n",
    "plt.annotate('i$=(110-x)/1000$', xy=(5,interestrate(0.18)),  xycoords='data',\n",
    "              xytext=(10.0, 70), textcoords='offset points', size = 12,\n",
    "              arrowprops=dict(arrowstyle=\"->\", linewidth = 1,\n",
    "                              connectionstyle=\"arc3,rad=.2\"),\n",
    "              )\n",
    "plt.annotate('MS1$=60$', xy=(60,interestrate(0.13)),  xycoords='data',\n",
    "              xytext=(-60, 50), textcoords='offset points', size = 12,\n",
    "              arrowprops=dict(arrowstyle=\"->\", linewidth = 1,\n",
    "                              connectionstyle=\"arc3,rad=.3\"),\n",
    "              )\n",
    "plt.annotate('MS2$=80$', xy=(80,interestrate(0.11)),  xycoords='data',\n",
    "              xytext=(10, 50), textcoords='offset points', size = 12,\n",
    "              arrowprops=dict(arrowstyle=\"->\", linewidth = 1,\n",
    "                              connectionstyle=\"arc3,rad=-.3\"),\n",
    "              )\n",
    "\n",
    "plt.show()"
   ]
  },
  {
   "cell_type": "markdown",
   "metadata": {},
   "source": [
    "The graph shows the interest rates and the Quantity of Money, so it shows the impact on the interest rate if the ECB changes its policy."
   ]
  },
  {
   "cell_type": "markdown",
   "metadata": {},
   "source": [
    "<a id='Interest rate changes'></a>\n",
    "## Interest rate changes\n",
    "The graph shows the expected outcomes as was already shown in [the ranges](#Define the equations and ranges of the interest rate and the quantity of money). For a money supply of 60 the interest rate will be $0.05$% and for a money supply of 80 this will be $0.03$%. \n",
    "\n",
    "The interest rate change can be calculated with the [formula](#Formula for interest rate changes) explained above.\n",
    "\n",
    "So for the interest rate change we get:\n",
    "\n",
    "$\\frac{0.03-0.05}{0.05} × 100= -40$%\n"
   ]
  },
  {
   "cell_type": "markdown",
   "metadata": {},
   "source": [
    "<a id='Conclusion'></a>\n",
    "## Conclusion\n",
    "\n",
    "As we have calculated in the [previous section](#Interest rate changes) we saw that there will be a decrease of 40% if the ECB increases the money supply to 80 billion euros.\n",
    "\n",
    "If we compare our interest rate with the [current](http://faculty.econ.ucdavis.edu/faculty/lmakowski/136_site/handouts/is_lm_review.pdf) interest rate if the ECB has a QE of 80 billion euros per month\n",
    "We see that the answers do not correspond with eachother.\n",
    "    \n",
    "The current interest rate is 0,000% according to the source we used. The difference between the to can be due to the fact that we use a simplistic model and the interest rates of the website we use are fixed for a longer time.\n",
    "    "
   ]
  },
  {
   "cell_type": "code",
   "execution_count": null,
   "metadata": {
    "collapsed": true
   },
   "outputs": [],
   "source": []
  }
 ],
 "metadata": {
  "kernelspec": {
   "display_name": "Python 2",
   "language": "python",
   "name": "python2"
  },
  "language_info": {
   "codemirror_mode": {
    "name": "ipython",
    "version": 2
   },
   "file_extension": ".py",
   "mimetype": "text/x-python",
   "name": "python",
   "nbconvert_exporter": "python",
   "pygments_lexer": "ipython2",
   "version": "2.7.11"
  }
 },
 "nbformat": 4,
 "nbformat_minor": 0
}
